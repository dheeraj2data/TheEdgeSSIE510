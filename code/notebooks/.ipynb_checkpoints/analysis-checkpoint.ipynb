{
 "cells": [
  {
   "cell_type": "code",
   "execution_count": 1,
   "id": "c026fe02",
   "metadata": {},
   "outputs": [],
   "source": [
    "import pandas as pd\n",
    "import numpy as np"
   ]
  },
  {
   "cell_type": "code",
   "execution_count": 2,
   "id": "79263725",
   "metadata": {},
   "outputs": [],
   "source": [
    "recipe = pd.read_csv(r\"C:\\Users\\dheer\\OneDrive - Binghamton University\\Fall2021\\SSIE510\\DSS\\data\\recipes.csv\")\n",
    "reviews = pd.read_csv(r\"C:\\Users\\dheer\\OneDrive - Binghamton University\\Fall2021\\SSIE510\\DSS\\data\\reviews.csv\")"
   ]
  },
  {
   "cell_type": "code",
   "execution_count": 3,
   "id": "5b3484b1",
   "metadata": {},
   "outputs": [
    {
     "data": {
      "text/plain": [
       "Index(['ReviewId', 'RecipeId', 'AuthorId', 'AuthorName', 'Rating', 'Review',\n",
       "       'DateSubmitted', 'DateModified'],\n",
       "      dtype='object')"
      ]
     },
     "execution_count": 3,
     "metadata": {},
     "output_type": "execute_result"
    }
   ],
   "source": [
    "reviews.columns"
   ]
  },
  {
   "cell_type": "code",
   "execution_count": 4,
   "id": "299897fd",
   "metadata": {},
   "outputs": [],
   "source": [
    "recipe.drop(columns=[\"CookTime\",\"PrepTime\",\"TotalTime\",\"AggregatedRating\",\"ReviewCount\",\"RecipeServings\",\"RecipeYield\"],inplace=True)\n",
    "recipe = recipe[recipe['Keywords'].notna()]\n",
    "recipe.dropna(inplace=True)\n",
    "recipe.drop_duplicates(inplace=True)"
   ]
  },
  {
   "cell_type": "code",
   "execution_count": 6,
   "id": "87cd539a",
   "metadata": {},
   "outputs": [],
   "source": [
    "AverageRatings = pd.DataFrame(reviews.groupby(\"RecipeId\")[\"Rating\"].mean()).reset_index()"
   ]
  },
  {
   "cell_type": "code",
   "execution_count": 7,
   "id": "a4aa6628",
   "metadata": {},
   "outputs": [],
   "source": [
    "Reviewscounts = pd.DataFrame(reviews[\"RecipeId\"].value_counts()).reset_index().rename(columns = {\"RecipeId\":\"Number of Reviews\",\"index\":\"RecipeId\"})"
   ]
  },
  {
   "cell_type": "code",
   "execution_count": 8,
   "id": "0587f9f0",
   "metadata": {},
   "outputs": [],
   "source": [
    "masterdata = recipe.merge(Reviewscounts,on=\"RecipeId\",how=\"left\")\n",
    "masterdata = masterdata.merge(AverageRatings,on=\"RecipeId\",how=\"left\")"
   ]
  },
  {
   "cell_type": "code",
   "execution_count": 9,
   "id": "4b8be48f",
   "metadata": {},
   "outputs": [],
   "source": [
    "masterdata.to_csv(r\"C:\\Users\\dheer\\OneDrive - Binghamton University\\Fall2021\\SSIE510\\DSS\\data\\masterdata.csv\",index=False)"
   ]
  },
  {
   "cell_type": "code",
   "execution_count": 11,
   "id": "5f0d960c",
   "metadata": {},
   "outputs": [
    {
     "name": "stderr",
     "output_type": "stream",
     "text": [
      "C:\\Users\\dheer\\AppData\\Local\\Temp/ipykernel_31408/2450658063.py:1: UserWarning: This pattern has match groups. To actually get the groups, use str.extract.\n",
      "  masterdata[\"keywords\"] = np.where(masterdata[\"Keywords\"].str.contains(\"c()\"),masterdata[\"Keywords\"].str[2:-1],masterdata[\"Keywords\"])\n"
     ]
    }
   ],
   "source": [
    "masterdata[\"keywords\"] = np.where(masterdata[\"Keywords\"].str.contains(\"c()\"),masterdata[\"Keywords\"].str[2:-1],masterdata[\"Keywords\"])"
   ]
  },
  {
   "cell_type": "code",
   "execution_count": 28,
   "id": "1d3d46b3",
   "metadata": {},
   "outputs": [],
   "source": [
    "def flatten(t):\n",
    "    return [item for sublist in t for item in sublist]\n",
    "keywords = flatten(masterdata[\"keywords\"].str.split(\",\").to_list())"
   ]
  },
  {
   "cell_type": "code",
   "execution_count": 29,
   "id": "fe218837",
   "metadata": {},
   "outputs": [],
   "source": [
    "keywords = [keyword.rstrip('\"').lstrip(' \"') for keyword in keywords]"
   ]
  },
  {
   "cell_type": "code",
   "execution_count": 34,
   "id": "9d94d567",
   "metadata": {},
   "outputs": [
    {
     "data": {
      "text/plain": [
       "2529095"
      ]
     },
     "execution_count": 34,
     "metadata": {},
     "output_type": "execute_result"
    }
   ],
   "source": [
    "len(keywords)"
   ]
  },
  {
   "cell_type": "code",
   "execution_count": 36,
   "id": "745c1e61",
   "metadata": {},
   "outputs": [
    {
     "data": {
      "text/plain": [
       "('Lunch/Snacks',\n",
       " 'High In...',\n",
       " 'Nigerian',\n",
       " 'Mashed Potatoes',\n",
       " 'Ice Cream',\n",
       " 'Chinese',\n",
       " 'Short Grain Rice',\n",
       " 'Iraqi',\n",
       " 'Citrus',\n",
       " 'Hungarian',\n",
       " 'Creole',\n",
       " 'Pasta Shells',\n",
       " 'Chicken Thigh & Leg',\n",
       " 'Turkey Breasts',\n",
       " 'Homeopathy/Remedies',\n",
       " 'Indian',\n",
       " 'Russian',\n",
       " 'Asian',\n",
       " 'Broil/Grill',\n",
       " 'Belgian',\n",
       " 'Apple',\n",
       " 'New Zealand',\n",
       " 'Nuts',\n",
       " 'German',\n",
       " 'Salad Dressings',\n",
       " 'Papaya',\n",
       " 'Candy',\n",
       " 'Winter',\n",
       " 'Summer',\n",
       " 'Reynolds Wrap Contest',\n",
       " '< 4 Hours',\n",
       " 'Filipino',\n",
       " 'Ham',\n",
       " 'Mixer',\n",
       " 'picy',\n",
       " 'Australian',\n",
       " 'Chard',\n",
       " 'Canadian',\n",
       " 'Fruit',\n",
       " 'Corn',\n",
       " '< 30 Mins',\n",
       " 'Swiss',\n",
       " 'Scandinavian',\n",
       " 'Squid',\n",
       " 'Avocado',\n",
       " 'Turkish',\n",
       " 'From Scratch',\n",
       " 'rom Scratch',\n",
       " 'Pears',\n",
       " 'Coconut',\n",
       " 'Honduran',\n",
       " 'Mongolian',\n",
       " 'Spanish',\n",
       " 'Oatmeal',\n",
       " 'unch/Snacks',\n",
       " 'Elk',\n",
       " 'Austrian',\n",
       " 'Dutch',\n",
       " 'Artichoke',\n",
       " 'Spaghetti',\n",
       " 'Thanksgiving',\n",
       " 'icrowave',\n",
       " 'Beef Barley Soup',\n",
       " 'Oven',\n",
       " 'Refrigerator',\n",
       " 'Beef Crock Pot',\n",
       " 'Japanese',\n",
       " 'Black Beans',\n",
       " 'One Dish Meal',\n",
       " 'Halibut',\n",
       " 'Meatloaf',\n",
       " 'Strawberries Desserts',\n",
       " 'Pork Crock Pot',\n",
       " 'Swedish',\n",
       " 'Beverages',\n",
       " 'Grains',\n",
       " 'Low Protein',\n",
       " 'Chicken Stew',\n",
       " 'Vietnamese',\n",
       " 'Baking',\n",
       " 'Inexpensive',\n",
       " 'Savory',\n",
       " 'Breakfast Potatoes',\n",
       " 'Thai',\n",
       " 'Christmas',\n",
       " 'Catfish',\n",
       " 'Quick Breads',\n",
       " 'otluck',\n",
       " 'Crock Pot Slow Cooker',\n",
       " 'Coconut Desserts',\n",
       " 'Egg Free',\n",
       " 'Cookie & Brownie',\n",
       " 'Potato',\n",
       " 'Punch Beverage',\n",
       " 'Spring',\n",
       " 'Microwave',\n",
       " '< 15 Mins',\n",
       " 'Eggs Breakfast',\n",
       " 'Costa Rican',\n",
       " 'rock Pot Slow Cooker',\n",
       " 'ice',\n",
       " 'Portuguese',\n",
       " 'Nepalese',\n",
       " 'Yeast Breads',\n",
       " 'Stew',\n",
       " 'Cheesecake',\n",
       " 'Gumbo',\n",
       " 'Whole Chicken',\n",
       " 'Desserts Easy',\n",
       " 'Rice',\n",
       " 'Low Cholesterol',\n",
       " 'Chilean',\n",
       " 'Shakes',\n",
       " 'Penne',\n",
       " 'Gelatin',\n",
       " 'Beans',\n",
       " 'ative American',\n",
       " 'Szechuan',\n",
       " 'Peruvian',\n",
       " 'Healthy',\n",
       " 'Onions',\n",
       " 'Plums',\n",
       " 'Kosher',\n",
       " 'Bean Soup',\n",
       " 'Greens',\n",
       " 'Duck Breasts',\n",
       " 'Moroccan',\n",
       " 'Beginner Cook',\n",
       " 'Potluck',\n",
       " 'Vegan',\n",
       " 'Dehydrator',\n",
       " 'Native American',\n",
       " 'South American',\n",
       " 'Cajun',\n",
       " 'Weeknight',\n",
       " 'Stir Fry',\n",
       " 'Pressure Cooker',\n",
       " 'Scottish',\n",
       " 'Easy',\n",
       " 'Tempeh',\n",
       " 'Goose',\n",
       " 'Pineapple',\n",
       " 'Deep Fried',\n",
       " 'Indonesian',\n",
       " 'Hunan',\n",
       " 'No Shell Fish',\n",
       " 'Tomato Sauce',\n",
       " 'Peppers',\n",
       " 'Beef Organ Meats',\n",
       " 'Chocolate Chip Cookies',\n",
       " 'Tuna',\n",
       " 'Hanukkah',\n",
       " 'Pakistani',\n",
       " 'No Bake Cookie',\n",
       " 'Chicken Livers',\n",
       " 'Puerto Rican',\n",
       " 'Hawaiian',\n",
       " 'No Cook',\n",
       " 'Icelandic',\n",
       " 'Caribbean',\n",
       " 'Brazilian',\n",
       " 'Mexican',\n",
       " 'High Protein',\n",
       " 'Malaysian',\n",
       " 'Beef Sandwiches',\n",
       " 'Lamb/Sheep',\n",
       " 'Whole Duck',\n",
       " 'Cheese',\n",
       " 'High In... Diabetic Friendly',\n",
       " 'Perch',\n",
       " 'Memorial Day',\n",
       " 'Kid Friendly',\n",
       " 'Cucumber',\n",
       " 'Halloween Cocktail',\n",
       " 'Spicy',\n",
       " 'Crab',\n",
       " 'Lemon',\n",
       " 'Tropical Fruits',\n",
       " 'Served Hot New Years',\n",
       " '< 60 Mins',\n",
       " 'Fish Halibut',\n",
       " 'Pot Roast',\n",
       " 'Baked Beans',\n",
       " 'Brown Rice',\n",
       " 'European',\n",
       " 'Danish',\n",
       " 'Cabbage',\n",
       " 'Lactose Free',\n",
       " 'Grapes',\n",
       " 'Trout',\n",
       " 'Lobster',\n",
       " 'South African',\n",
       " 'Somalian',\n",
       " 'Southwestern U.S.',\n",
       " 'College Food',\n",
       " 'Sweet',\n",
       " 'Pumpkin',\n",
       " 'African',\n",
       " 'Pot Pie',\n",
       " 'Canning',\n",
       " 'Jellies',\n",
       " 'Guatemalan',\n",
       " 'Stove Top',\n",
       " 'Bass',\n",
       " 'High Fiber',\n",
       " 'Peanut Butter',\n",
       " 'Frozen Desserts',\n",
       " 'Tilapia',\n",
       " 'Poultry',\n",
       " 'Duck',\n",
       " 'Meat',\n",
       " 'runch',\n",
       " 'Stocks',\n",
       " 'Welsh',\n",
       " 'Orange Roughy',\n",
       " 'Bath/Beauty',\n",
       " 'Medium Grain Rice',\n",
       " 'Melons',\n",
       " 'Palestinian',\n",
       " 'Lime',\n",
       " 'Raspberries',\n",
       " 'Norwegian',\n",
       " 'Smoothies',\n",
       " 'Ramadan',\n",
       " 'Colombian',\n",
       " 'Very Low Carbs',\n",
       " 'Georgian',\n",
       " 'Sauces',\n",
       " 'Octopus',\n",
       " 'Pheasant',\n",
       " 'Manicotti',\n",
       " 'Crawfish',\n",
       " 'Roast',\n",
       " 'frican',\n",
       " 'Navy Bean Soup',\n",
       " 'Finnish',\n",
       " 'Pie',\n",
       " 'Labor Day',\n",
       " 'Freezer',\n",
       " \"St. Patrick's Day\",\n",
       " 'Cauliflower',\n",
       " 'Kiwifruit',\n",
       " 'Whole Turkey',\n",
       " 'Czech',\n",
       " 'Lime Desserts',\n",
       " 'Bread Machine',\n",
       " 'Spinach',\n",
       " 'Tortilla Soup',\n",
       " 'Collard Greens',\n",
       " 'Breakfast',\n",
       " 'White Rice',\n",
       " 'Pork Loin',\n",
       " 'Savory Pies',\n",
       " 'Pasta Elbow',\n",
       " 'Strawberry',\n",
       " 'Halloween',\n",
       " 'Brunch',\n",
       " 'Breads',\n",
       " 'Beef Kidney',\n",
       " 'Tex Mex',\n",
       " 'Free Of...',\n",
       " 'Long Grain Rice',\n",
       " 'Soy/Tofu',\n",
       " 'Whitefish',\n",
       " 'Roast Beef',\n",
       " 'Korean',\n",
       " 'Mango',\n",
       " 'Beef Liver',\n",
       " 'Meatballs',\n",
       " 'Vegetable',\n",
       " 'Cherries',\n",
       " 'Bear',\n",
       " 'Chowders',\n",
       " 'Greek',\n",
       " 'Rabbit',\n",
       " 'Deer',\n",
       " 'Yam/Sweet Potato',\n",
       " 'Breakfast Eggs',\n",
       " 'Birthday',\n",
       " 'Chicken',\n",
       " 'Small Appliance',\n",
       " 'Moose',\n",
       " 'Southwest Asia (middle East)',\n",
       " 'Mahi Mahi',\n",
       " 'Household Cleaner',\n",
       " 'Beef Sauces',\n",
       " 'Berries',\n",
       " 'Oranges',\n",
       " 'Ethiopian',\n",
       " 'Wild Game',\n",
       " 'exican',\n",
       " 'Chicken Stews',\n",
       " 'Steak',\n",
       " 'Lentil',\n",
       " 'Oysters',\n",
       " 'outh American',\n",
       " 'Veal',\n",
       " 'Steam',\n",
       " 'Chicken Breast',\n",
       " 'Mussels',\n",
       " 'Pork',\n",
       " 'Curries',\n",
       " 'Sudanese',\n",
       " 'Chinese New Year',\n",
       " 'Pennsylvania Dutch',\n",
       " 'Ecuadorean',\n",
       " 'Dessert',\n",
       " 'For Large Groups',\n",
       " 'Cranberry Sauce',\n",
       " 'Bar Cookie',\n",
       " \"t. Patrick's Day\",\n",
       " 'Clear Soup',\n",
       " 'Camping',\n",
       " 'Dairy Free Foods',\n",
       " 'Cantonese',\n",
       " 'Cambodian',\n",
       " 'For Large Groups Holiday/Event',\n",
       " 'Spreads',\n",
       " 'Marinara Sauce',\n",
       " 'Lebanese',\n",
       " 'mall Appliance',\n",
       " 'Venezuelan',\n",
       " 'Cuban',\n",
       " 'Polish',\n",
       " 'Egyptian',\n",
       " 'Polynesian',\n",
       " 'Quail',\n",
       " 'Toddler Friendly')"
      ]
     },
     "execution_count": 36,
     "metadata": {},
     "output_type": "execute_result"
    }
   ],
   "source": [
    "tuple(set(keywords))"
   ]
  },
  {
   "cell_type": "code",
   "execution_count": 38,
   "id": "a195fc8f",
   "metadata": {},
   "outputs": [
    {
     "data": {
      "text/plain": [
       "0.0"
      ]
     },
     "execution_count": 38,
     "metadata": {},
     "output_type": "execute_result"
    }
   ],
   "source": [
    "masterdata[\"CarbohydrateContent\"].min()"
   ]
  },
  {
   "cell_type": "code",
   "execution_count": 39,
   "id": "9c967e4c",
   "metadata": {},
   "outputs": [
    {
     "data": {
      "text/plain": [
       "108294.6"
      ]
     },
     "execution_count": 39,
     "metadata": {},
     "output_type": "execute_result"
    }
   ],
   "source": [
    "masterdata[\"CarbohydrateContent\"].max()"
   ]
  },
  {
   "cell_type": "code",
   "execution_count": null,
   "id": "264d4257",
   "metadata": {},
   "outputs": [],
   "source": []
  }
 ],
 "metadata": {
  "kernelspec": {
   "display_name": "Python 3 (ipykernel)",
   "language": "python",
   "name": "python3"
  },
  "language_info": {
   "codemirror_mode": {
    "name": "ipython",
    "version": 3
   },
   "file_extension": ".py",
   "mimetype": "text/x-python",
   "name": "python",
   "nbconvert_exporter": "python",
   "pygments_lexer": "ipython3",
   "version": "3.10.0"
  }
 },
 "nbformat": 4,
 "nbformat_minor": 5
}
